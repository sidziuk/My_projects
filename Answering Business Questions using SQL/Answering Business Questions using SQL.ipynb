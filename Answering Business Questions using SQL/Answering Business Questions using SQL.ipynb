{
 "cells": [
  {
   "cell_type": "markdown",
   "metadata": {},
   "source": [
    "# Answering Business Questions using SQL"
   ]
  },
  {
   "cell_type": "code",
   "execution_count": 1,
   "metadata": {
    "collapsed": false
   },
   "outputs": [],
   "source": [
    "import sqlite3 as sql\n",
    "import pandas as pd\n",
    "import numpy as np\n",
    "import matplotlib.pyplot as plt\n",
    "plt.style.use('ggplot')\n",
    "% matplotlib inline"
   ]
  },
  {
   "cell_type": "code",
   "execution_count": 2,
   "metadata": {
    "collapsed": true
   },
   "outputs": [],
   "source": [
    "def run_query(query):\n",
    "    with sql.connect('chinook.db') as conn:\n",
    "        return pd.read_sql(query, conn)"
   ]
  },
  {
   "cell_type": "code",
   "execution_count": 3,
   "metadata": {
    "collapsed": true
   },
   "outputs": [],
   "source": [
    "def run_command(query):\n",
    "    with sql.connect('chinook.db') as conn:\n",
    "        conn.isolation_level = None\n",
    "        conn.execute(query)"
   ]
  },
  {
   "cell_type": "code",
   "execution_count": 4,
   "metadata": {
    "collapsed": true
   },
   "outputs": [],
   "source": [
    "def show_tables():\n",
    "    query = '''\n",
    "    SELECT\n",
    "        name,\n",
    "        type\n",
    "    FROM sqlite_master\n",
    "    WHERE type IN (\"table\",\"view\");\n",
    "    '''\n",
    "    return run_query(query)"
   ]
  },
  {
   "cell_type": "code",
   "execution_count": 5,
   "metadata": {
    "collapsed": false
   },
   "outputs": [
    {
     "data": {
      "text/html": [
       "<div>\n",
       "<style scoped>\n",
       "    .dataframe tbody tr th:only-of-type {\n",
       "        vertical-align: middle;\n",
       "    }\n",
       "\n",
       "    .dataframe tbody tr th {\n",
       "        vertical-align: top;\n",
       "    }\n",
       "\n",
       "    .dataframe thead th {\n",
       "        text-align: right;\n",
       "    }\n",
       "</style>\n",
       "<table border=\"1\" class=\"dataframe\">\n",
       "  <thead>\n",
       "    <tr style=\"text-align: right;\">\n",
       "      <th></th>\n",
       "      <th>name</th>\n",
       "      <th>type</th>\n",
       "    </tr>\n",
       "  </thead>\n",
       "  <tbody>\n",
       "    <tr>\n",
       "      <th>0</th>\n",
       "      <td>album</td>\n",
       "      <td>table</td>\n",
       "    </tr>\n",
       "    <tr>\n",
       "      <th>1</th>\n",
       "      <td>artist</td>\n",
       "      <td>table</td>\n",
       "    </tr>\n",
       "    <tr>\n",
       "      <th>2</th>\n",
       "      <td>customer</td>\n",
       "      <td>table</td>\n",
       "    </tr>\n",
       "    <tr>\n",
       "      <th>3</th>\n",
       "      <td>employee</td>\n",
       "      <td>table</td>\n",
       "    </tr>\n",
       "    <tr>\n",
       "      <th>4</th>\n",
       "      <td>genre</td>\n",
       "      <td>table</td>\n",
       "    </tr>\n",
       "    <tr>\n",
       "      <th>5</th>\n",
       "      <td>invoice</td>\n",
       "      <td>table</td>\n",
       "    </tr>\n",
       "    <tr>\n",
       "      <th>6</th>\n",
       "      <td>invoice_line</td>\n",
       "      <td>table</td>\n",
       "    </tr>\n",
       "    <tr>\n",
       "      <th>7</th>\n",
       "      <td>media_type</td>\n",
       "      <td>table</td>\n",
       "    </tr>\n",
       "    <tr>\n",
       "      <th>8</th>\n",
       "      <td>playlist</td>\n",
       "      <td>table</td>\n",
       "    </tr>\n",
       "    <tr>\n",
       "      <th>9</th>\n",
       "      <td>playlist_track</td>\n",
       "      <td>table</td>\n",
       "    </tr>\n",
       "    <tr>\n",
       "      <th>10</th>\n",
       "      <td>track</td>\n",
       "      <td>table</td>\n",
       "    </tr>\n",
       "  </tbody>\n",
       "</table>\n",
       "</div>"
      ],
      "text/plain": [
       "              name   type\n",
       "0            album  table\n",
       "1           artist  table\n",
       "2         customer  table\n",
       "3         employee  table\n",
       "4            genre  table\n",
       "5          invoice  table\n",
       "6     invoice_line  table\n",
       "7       media_type  table\n",
       "8         playlist  table\n",
       "9   playlist_track  table\n",
       "10           track  table"
      ]
     },
     "execution_count": 5,
     "metadata": {},
     "output_type": "execute_result"
    }
   ],
   "source": [
    "run_command('DROP VIEW IF EXISTS country_base')\n",
    "show_tables()"
   ]
  },
  {
   "cell_type": "markdown",
   "metadata": {},
   "source": [
    "# Selecting New Albums to Purchase"
   ]
  },
  {
   "cell_type": "code",
   "execution_count": 6,
   "metadata": {
    "collapsed": true
   },
   "outputs": [],
   "source": [
    "query_purchase_albums = '''\n",
    "WITH usa_sold AS\n",
    "   (\n",
    "    SELECT invl.* FROM invoice_line invl\n",
    "    INNER JOIN invoice inv ON inv.customer_id = c.customer_id\n",
    "    INNER JOIN customer c on inv.customer_id = c.customer_id\n",
    "    WHERE c.country = \"USA\"\n",
    "   )\n",
    "\n",
    "SELECT\n",
    "    ge.name genre,\n",
    "    COUNT(us.invoice_line_id) tracks_sold,\n",
    "    ROUND(CAST(COUNT(us.invoice_line_id) AS FLOAT)*100 / (\n",
    "        SELECT COUNT(*) from usa_sold\n",
    "    ),2) || \"%\" percentage_sold\n",
    "FROM usa_sold us\n",
    "INNER JOIN track tr ON tr.track_id = us.track_id\n",
    "INNER JOIN genre ge ON ge.genre_id = tr.genre_id\n",
    "GROUP BY 1\n",
    "ORDER BY 2 DESC;\n",
    "'''"
   ]
  },
  {
   "cell_type": "code",
   "execution_count": 7,
   "metadata": {
    "collapsed": false
   },
   "outputs": [
    {
     "data": {
      "text/html": [
       "<div>\n",
       "<style scoped>\n",
       "    .dataframe tbody tr th:only-of-type {\n",
       "        vertical-align: middle;\n",
       "    }\n",
       "\n",
       "    .dataframe tbody tr th {\n",
       "        vertical-align: top;\n",
       "    }\n",
       "\n",
       "    .dataframe thead th {\n",
       "        text-align: right;\n",
       "    }\n",
       "</style>\n",
       "<table border=\"1\" class=\"dataframe\">\n",
       "  <thead>\n",
       "    <tr style=\"text-align: right;\">\n",
       "      <th></th>\n",
       "      <th>genre</th>\n",
       "      <th>tracks_sold</th>\n",
       "      <th>percentage_sold</th>\n",
       "    </tr>\n",
       "  </thead>\n",
       "  <tbody>\n",
       "    <tr>\n",
       "      <th>0</th>\n",
       "      <td>Rock</td>\n",
       "      <td>345185</td>\n",
       "      <td>55.39%</td>\n",
       "    </tr>\n",
       "    <tr>\n",
       "      <th>1</th>\n",
       "      <td>Metal</td>\n",
       "      <td>81089</td>\n",
       "      <td>13.01%</td>\n",
       "    </tr>\n",
       "    <tr>\n",
       "      <th>2</th>\n",
       "      <td>Alternative &amp; Punk</td>\n",
       "      <td>64452</td>\n",
       "      <td>10.34%</td>\n",
       "    </tr>\n",
       "    <tr>\n",
       "      <th>3</th>\n",
       "      <td>Latin</td>\n",
       "      <td>21877</td>\n",
       "      <td>3.51%</td>\n",
       "    </tr>\n",
       "    <tr>\n",
       "      <th>4</th>\n",
       "      <td>R&amp;B/Soul</td>\n",
       "      <td>20829</td>\n",
       "      <td>3.34%</td>\n",
       "    </tr>\n",
       "    <tr>\n",
       "      <th>5</th>\n",
       "      <td>Blues</td>\n",
       "      <td>16244</td>\n",
       "      <td>2.61%</td>\n",
       "    </tr>\n",
       "    <tr>\n",
       "      <th>6</th>\n",
       "      <td>Jazz</td>\n",
       "      <td>15851</td>\n",
       "      <td>2.54%</td>\n",
       "    </tr>\n",
       "    <tr>\n",
       "      <th>7</th>\n",
       "      <td>Alternative</td>\n",
       "      <td>15327</td>\n",
       "      <td>2.46%</td>\n",
       "    </tr>\n",
       "    <tr>\n",
       "      <th>8</th>\n",
       "      <td>Easy Listening</td>\n",
       "      <td>9694</td>\n",
       "      <td>1.56%</td>\n",
       "    </tr>\n",
       "    <tr>\n",
       "      <th>9</th>\n",
       "      <td>Pop</td>\n",
       "      <td>8253</td>\n",
       "      <td>1.32%</td>\n",
       "    </tr>\n",
       "    <tr>\n",
       "      <th>10</th>\n",
       "      <td>Electronica/Dance</td>\n",
       "      <td>7205</td>\n",
       "      <td>1.16%</td>\n",
       "    </tr>\n",
       "    <tr>\n",
       "      <th>11</th>\n",
       "      <td>Classical</td>\n",
       "      <td>6157</td>\n",
       "      <td>0.99%</td>\n",
       "    </tr>\n",
       "    <tr>\n",
       "      <th>12</th>\n",
       "      <td>Reggae</td>\n",
       "      <td>4585</td>\n",
       "      <td>0.74%</td>\n",
       "    </tr>\n",
       "    <tr>\n",
       "      <th>13</th>\n",
       "      <td>Hip Hop/Rap</td>\n",
       "      <td>4323</td>\n",
       "      <td>0.69%</td>\n",
       "    </tr>\n",
       "    <tr>\n",
       "      <th>14</th>\n",
       "      <td>Heavy Metal</td>\n",
       "      <td>1048</td>\n",
       "      <td>0.17%</td>\n",
       "    </tr>\n",
       "    <tr>\n",
       "      <th>15</th>\n",
       "      <td>Soundtrack</td>\n",
       "      <td>655</td>\n",
       "      <td>0.11%</td>\n",
       "    </tr>\n",
       "    <tr>\n",
       "      <th>16</th>\n",
       "      <td>TV Shows</td>\n",
       "      <td>262</td>\n",
       "      <td>0.04%</td>\n",
       "    </tr>\n",
       "    <tr>\n",
       "      <th>17</th>\n",
       "      <td>Drama</td>\n",
       "      <td>131</td>\n",
       "      <td>0.02%</td>\n",
       "    </tr>\n",
       "  </tbody>\n",
       "</table>\n",
       "</div>"
      ],
      "text/plain": [
       "                 genre  tracks_sold percentage_sold\n",
       "0                 Rock       345185          55.39%\n",
       "1                Metal        81089          13.01%\n",
       "2   Alternative & Punk        64452          10.34%\n",
       "3                Latin        21877           3.51%\n",
       "4             R&B/Soul        20829           3.34%\n",
       "5                Blues        16244           2.61%\n",
       "6                 Jazz        15851           2.54%\n",
       "7          Alternative        15327           2.46%\n",
       "8       Easy Listening         9694           1.56%\n",
       "9                  Pop         8253           1.32%\n",
       "10   Electronica/Dance         7205           1.16%\n",
       "11           Classical         6157           0.99%\n",
       "12              Reggae         4585           0.74%\n",
       "13         Hip Hop/Rap         4323           0.69%\n",
       "14         Heavy Metal         1048           0.17%\n",
       "15          Soundtrack          655           0.11%\n",
       "16            TV Shows          262           0.04%\n",
       "17               Drama          131           0.02%"
      ]
     },
     "execution_count": 7,
     "metadata": {},
     "output_type": "execute_result"
    }
   ],
   "source": [
    "purchase_albums = run_query(query_purchase_albums)\n",
    "purchase_albums"
   ]
  },
  {
   "cell_type": "code",
   "execution_count": 8,
   "metadata": {
    "collapsed": false
   },
   "outputs": [],
   "source": [
    "purchase_albums.set_index(\"genre\", inplace=True, drop=True)"
   ]
  },
  {
   "cell_type": "code",
   "execution_count": 9,
   "metadata": {
    "collapsed": false
   },
   "outputs": [
    {
     "data": {
      "image/png": "[encoded data removed]",
      "text/plain": [
       "<matplotlib.figure.Figure at 0x7fddcf848b00>"
      ]
     },
     "metadata": {},
     "output_type": "display_data"
    }
   ],
   "source": [
    "width = 0.8\n",
    "\n",
    "tick_positions = np.arange(1,purchase_albums['percentage_sold'][:10].size+1)\n",
    "print_data = list(purchase_albums['percentage_sold'] \\\n",
    ".str.replace('%', '').astype(float).iloc[:10])\n",
    "\n",
    "fig, ax = plt.subplots(figsize=(10, 5))\n",
    "rects = ax.bar(tick_positions+0.5,\n",
    "      print_data,\n",
    "      width,\n",
    "      align='center')\n",
    "\n",
    "for rect in rects:\n",
    "        height = rect.get_height()\n",
    "        ax.annotate('{}'.format(height),\n",
    "                    xy=(rect.get_x() + rect.get_width() / 2, height),\n",
    "                    xytext=(0, 3),\n",
    "                    textcoords=\"offset points\",\n",
    "                    ha='center', va='bottom')\n",
    "\n",
    "ax.set_title('Selling Genres in the USA')\n",
    "ax.set_xticks(tick_positions+0.5)\n",
    "ax.set_xticklabels(purchase_albums.index.values, rotation =90)\n",
    "ax.set_ylabel('%')\n",
    "plt.margins(x=0.03)\n",
    "\n",
    "plt.show()"
   ]
  },
  {
   "cell_type": "markdown",
   "metadata": {},
   "source": [
    "# Analyzing Employee Sales Performance"
   ]
  },
  {
   "cell_type": "code",
   "execution_count": 10,
   "metadata": {
    "collapsed": false
   },
   "outputs": [],
   "source": [
    "query_employee_sales = '''\n",
    "WITH customer_support_table AS\n",
    "    (\n",
    "     SELECT\n",
    "         inv.customer_id,\n",
    "         cs.support_rep_id,\n",
    "         SUM(inv.total) total\n",
    "     FROM invoice inv\n",
    "     INNER JOIN customer cs ON inv.customer_id = cs.customer_id\n",
    "     GROUP BY 1,2\n",
    "    )\n",
    "\n",
    "SELECT\n",
    "    em.first_name || \" \" || em.last_name employee,\n",
    "    SUM(cst.total) total_sales,\n",
    "    em.hire_date\n",
    "FROM customer_support_table cst\n",
    "INNER JOIN employee em ON em.employee_id = cst.support_rep_id\n",
    "GROUP BY 1;\n",
    "'''"
   ]
  },
  {
   "cell_type": "code",
   "execution_count": 11,
   "metadata": {
    "collapsed": false
   },
   "outputs": [
    {
     "data": {
      "text/html": [
       "<div>\n",
       "<style scoped>\n",
       "    .dataframe tbody tr th:only-of-type {\n",
       "        vertical-align: middle;\n",
       "    }\n",
       "\n",
       "    .dataframe tbody tr th {\n",
       "        vertical-align: top;\n",
       "    }\n",
       "\n",
       "    .dataframe thead th {\n",
       "        text-align: right;\n",
       "    }\n",
       "</style>\n",
       "<table border=\"1\" class=\"dataframe\">\n",
       "  <thead>\n",
       "    <tr style=\"text-align: right;\">\n",
       "      <th></th>\n",
       "      <th>employee</th>\n",
       "      <th>total_sales</th>\n",
       "      <th>hire_date</th>\n",
       "    </tr>\n",
       "  </thead>\n",
       "  <tbody>\n",
       "    <tr>\n",
       "      <th>0</th>\n",
       "      <td>Jane Peacock</td>\n",
       "      <td>1731.51</td>\n",
       "      <td>2017-04-01 00:00:00</td>\n",
       "    </tr>\n",
       "    <tr>\n",
       "      <th>1</th>\n",
       "      <td>Margaret Park</td>\n",
       "      <td>1584.00</td>\n",
       "      <td>2017-05-03 00:00:00</td>\n",
       "    </tr>\n",
       "    <tr>\n",
       "      <th>2</th>\n",
       "      <td>Steve Johnson</td>\n",
       "      <td>1393.92</td>\n",
       "      <td>2017-10-17 00:00:00</td>\n",
       "    </tr>\n",
       "  </tbody>\n",
       "</table>\n",
       "</div>"
      ],
      "text/plain": [
       "        employee  total_sales            hire_date\n",
       "0   Jane Peacock      1731.51  2017-04-01 00:00:00\n",
       "1  Margaret Park      1584.00  2017-05-03 00:00:00\n",
       "2  Steve Johnson      1393.92  2017-10-17 00:00:00"
      ]
     },
     "execution_count": 11,
     "metadata": {},
     "output_type": "execute_result"
    }
   ],
   "source": [
    "employee_sales = run_query(query_employee_sales)\n",
    "employee_sales"
   ]
  },
  {
   "cell_type": "code",
   "execution_count": 12,
   "metadata": {
    "collapsed": true
   },
   "outputs": [],
   "source": [
    "employee_sales.set_index(\"employee\", inplace=True, drop=True)\n",
    "employee_sales.sort_values(\"total_sales\", inplace=True)"
   ]
  },
  {
   "cell_type": "code",
   "execution_count": 13,
   "metadata": {
    "collapsed": false,
    "scrolled": false
   },
   "outputs": [
    {
     "data": {
      "image/png": "[encoded data removed]",
      "text/plain": [
       "<matplotlib.figure.Figure at 0x7fddcd7fb240>"
      ]
     },
     "metadata": {},
     "output_type": "display_data"
    }
   ],
   "source": [
    "employee_sales.plot.barh(\n",
    "    legend=False,\n",
    "    title='Employee sales'\n",
    "    )\n",
    "plt.ylabel('')\n",
    "plt.show()"
   ]
  },
  {
   "cell_type": "markdown",
   "metadata": {},
   "source": [
    "# Analyzing Sales by Country"
   ]
  },
  {
   "cell_type": "code",
   "execution_count": 14,
   "metadata": {
    "collapsed": false
   },
   "outputs": [],
   "source": [
    "view_table = \"\"\"\n",
    "CREATE VIEW country_base AS\n",
    "    SELECT\n",
    "       CASE\n",
    "           WHEN (\n",
    "                 SELECT COUNT(*)\n",
    "                 FROM customer\n",
    "                 WHERE country = cs.country\n",
    "                ) = 1 THEN \"Other\"\n",
    "           ELSE cs.country\n",
    "       END AS country,\n",
    "       inv.customer_id,\n",
    "       inv.invoice_id,\n",
    "       inv.total\n",
    "    FROM invoice inv\n",
    "    INNER JOIN customer cs ON cs.customer_id = inv.customer_id\n",
    "\"\"\""
   ]
  },
  {
   "cell_type": "code",
   "execution_count": 15,
   "metadata": {
    "collapsed": false
   },
   "outputs": [],
   "source": [
    "run_command(view_table)"
   ]
  },
  {
   "cell_type": "code",
   "execution_count": 16,
   "metadata": {
    "collapsed": true
   },
   "outputs": [],
   "source": [
    "quary_country_sales = '''\n",
    "SELECT\n",
    "    country,\n",
    "    customers,\n",
    "    total_sales,\n",
    "    average_order,\n",
    "    average_customer_value\n",
    "FROM\n",
    "    (\n",
    "    SELECT\n",
    "        country,\n",
    "        COUNT(DISTINCT customer_id) customers,\n",
    "        SUM(total) total_sales,\n",
    "        ROUND(SUM(total) / COUNT(DISTINCT customer_id),3) average_customer_value,\n",
    "        ROUND(SUM(total) / COUNT(DISTINCT invoice_id),3) average_order,\n",
    "        CASE\n",
    "            WHEN country = \"Other\" THEN 1\n",
    "            ELSE 0\n",
    "        END AS sort\n",
    "    FROM country_base\n",
    "    GROUP BY country\n",
    "    ORDER BY sort ASC, total_sales DESC\n",
    "    );\n",
    "'''"
   ]
  },
  {
   "cell_type": "code",
   "execution_count": 17,
   "metadata": {
    "collapsed": false,
    "scrolled": true
   },
   "outputs": [
    {
     "data": {
      "text/html": [
       "<div>\n",
       "<style scoped>\n",
       "    .dataframe tbody tr th:only-of-type {\n",
       "        vertical-align: middle;\n",
       "    }\n",
       "\n",
       "    .dataframe tbody tr th {\n",
       "        vertical-align: top;\n",
       "    }\n",
       "\n",
       "    .dataframe thead th {\n",
       "        text-align: right;\n",
       "    }\n",
       "</style>\n",
       "<table border=\"1\" class=\"dataframe\">\n",
       "  <thead>\n",
       "    <tr style=\"text-align: right;\">\n",
       "      <th></th>\n",
       "      <th>country</th>\n",
       "      <th>customers</th>\n",
       "      <th>total_sales</th>\n",
       "      <th>average_order</th>\n",
       "      <th>average_customer_value</th>\n",
       "    </tr>\n",
       "  </thead>\n",
       "  <tbody>\n",
       "    <tr>\n",
       "      <th>0</th>\n",
       "      <td>USA</td>\n",
       "      <td>13</td>\n",
       "      <td>1040.49</td>\n",
       "      <td>7.943</td>\n",
       "      <td>80.038</td>\n",
       "    </tr>\n",
       "    <tr>\n",
       "      <th>1</th>\n",
       "      <td>Canada</td>\n",
       "      <td>8</td>\n",
       "      <td>535.59</td>\n",
       "      <td>7.047</td>\n",
       "      <td>66.949</td>\n",
       "    </tr>\n",
       "    <tr>\n",
       "      <th>2</th>\n",
       "      <td>Brazil</td>\n",
       "      <td>5</td>\n",
       "      <td>427.68</td>\n",
       "      <td>7.011</td>\n",
       "      <td>85.536</td>\n",
       "    </tr>\n",
       "    <tr>\n",
       "      <th>3</th>\n",
       "      <td>France</td>\n",
       "      <td>5</td>\n",
       "      <td>389.07</td>\n",
       "      <td>7.781</td>\n",
       "      <td>77.814</td>\n",
       "    </tr>\n",
       "    <tr>\n",
       "      <th>4</th>\n",
       "      <td>Germany</td>\n",
       "      <td>4</td>\n",
       "      <td>334.62</td>\n",
       "      <td>8.161</td>\n",
       "      <td>83.655</td>\n",
       "    </tr>\n",
       "    <tr>\n",
       "      <th>5</th>\n",
       "      <td>Czech Republic</td>\n",
       "      <td>2</td>\n",
       "      <td>273.24</td>\n",
       "      <td>9.108</td>\n",
       "      <td>136.620</td>\n",
       "    </tr>\n",
       "    <tr>\n",
       "      <th>6</th>\n",
       "      <td>United Kingdom</td>\n",
       "      <td>3</td>\n",
       "      <td>245.52</td>\n",
       "      <td>8.769</td>\n",
       "      <td>81.840</td>\n",
       "    </tr>\n",
       "    <tr>\n",
       "      <th>7</th>\n",
       "      <td>Portugal</td>\n",
       "      <td>2</td>\n",
       "      <td>185.13</td>\n",
       "      <td>6.384</td>\n",
       "      <td>92.565</td>\n",
       "    </tr>\n",
       "    <tr>\n",
       "      <th>8</th>\n",
       "      <td>India</td>\n",
       "      <td>2</td>\n",
       "      <td>183.15</td>\n",
       "      <td>8.721</td>\n",
       "      <td>91.575</td>\n",
       "    </tr>\n",
       "    <tr>\n",
       "      <th>9</th>\n",
       "      <td>Other</td>\n",
       "      <td>15</td>\n",
       "      <td>1094.94</td>\n",
       "      <td>7.449</td>\n",
       "      <td>72.996</td>\n",
       "    </tr>\n",
       "  </tbody>\n",
       "</table>\n",
       "</div>"
      ],
      "text/plain": [
       "          country  customers  total_sales  average_order  \\\n",
       "0             USA         13      1040.49          7.943   \n",
       "1          Canada          8       535.59          7.047   \n",
       "2          Brazil          5       427.68          7.011   \n",
       "3          France          5       389.07          7.781   \n",
       "4         Germany          4       334.62          8.161   \n",
       "5  Czech Republic          2       273.24          9.108   \n",
       "6  United Kingdom          3       245.52          8.769   \n",
       "7        Portugal          2       185.13          6.384   \n",
       "8           India          2       183.15          8.721   \n",
       "9           Other         15      1094.94          7.449   \n",
       "\n",
       "   average_customer_value  \n",
       "0                  80.038  \n",
       "1                  66.949  \n",
       "2                  85.536  \n",
       "3                  77.814  \n",
       "4                  83.655  \n",
       "5                 136.620  \n",
       "6                  81.840  \n",
       "7                  92.565  \n",
       "8                  91.575  \n",
       "9                  72.996  "
      ]
     },
     "execution_count": 17,
     "metadata": {},
     "output_type": "execute_result"
    }
   ],
   "source": [
    "country_sales = run_query(quary_country_sales)\n",
    "country_sales"
   ]
  },
  {
   "cell_type": "markdown",
   "metadata": {},
   "source": [
    "# Visualizing Sales by Country"
   ]
  },
  {
   "cell_type": "code",
   "execution_count": 18,
   "metadata": {
    "collapsed": false
   },
   "outputs": [],
   "source": [
    "country_sales_visual = country_sales.set_index(\"country\")\n",
    "del country_sales_visual.index.name\n"
   ]
  },
  {
   "cell_type": "code",
   "execution_count": 19,
   "metadata": {
    "collapsed": false
   },
   "outputs": [],
   "source": [
    "country_sales_visual['color'] = ['#ff0000', '#FFA500', '#98FB98',\n",
    "                                '#F0E68C', '#808000', '#20B2AA',\n",
    "                                '#7B68EE', '#EE82EE', '#A0522D', '#008B8B']"
   ]
  },
  {
   "cell_type": "code",
   "execution_count": 20,
   "metadata": {
    "collapsed": false
   },
   "outputs": [
    {
     "data": {
      "text/plain": [
       "<function matplotlib.pyplot.show>"
      ]
     },
     "execution_count": 20,
     "metadata": {},
     "output_type": "execute_result"
    },
    {
     "data": {
      "image/png": "[encoded data removed]",
      "text/plain": [
       "<matplotlib.figure.Figure at 0x7fddcd671828>"
      ]
     },
     "metadata": {},
     "output_type": "display_data"
    }
   ],
   "source": [
    "fig, ax = plt.subplots(nrows=2, ncols=2, figsize=(10, 10))\n",
    "\n",
    "ax[0,0].pie(country_sales_visual['customers'],\n",
    "            labels=country_sales_visual.index,\n",
    "            autopct='%1.1f%%',\n",
    "            startangle=90,\n",
    "            pctdistance = 0.85,\n",
    "            colors = country_sales_visual['color'])\n",
    "ax[0,0].axis('equal')\n",
    "ax[0,0].set_title('Customers')\n",
    "\n",
    "ax[0,1].bar(tick_positions+0.5,\n",
    "      country_sales_visual['total_sales'],\n",
    "      width,\n",
    "      align='center',\n",
    "      color = country_sales_visual['color'])\n",
    "ax[0,1].set_title('Total sales')\n",
    "ax[0,1].set_xticks(tick_positions+0.5)\n",
    "ax[0,1].set_xticklabels(country_sales_visual.index.values, rotation =90)\n",
    "ax[0,1].margins(x=0.03)\n",
    "\n",
    "ax[1,0].bar(tick_positions+0.5,\n",
    "      country_sales_visual['average_order'].sort_values(),\n",
    "      width,\n",
    "      align='center',\n",
    "      color = country_sales_visual.sort_values('average_order')['color'])\n",
    "ax[1,0].set_title('Average order')\n",
    "ax[1,0].set_xticks(tick_positions+0.5)\n",
    "ax[1,0].set_xticklabels(country_sales_visual['average_order'].sort_values().\\\n",
    "                        index.values,\n",
    "                        rotation =90)\n",
    "ax[1,0].margins(x=0.03)\n",
    "\n",
    "average_customer_value_mean =country_sales_visual\\\n",
    "                                ['average_customer_value'].mean()\n",
    "country_sales_visual['average_customer_value'] = \\\n",
    "    country_sales_visual['average_customer_value']- \\\n",
    "    average_customer_value_mean\n",
    "ax[1,1].bar(tick_positions+0.5,\n",
    "      country_sales_visual['average_customer_value'].sort_values(),\n",
    "      width,\n",
    "      align='center',\n",
    "      color = country_sales_visual.sort_values('average_customer_value')['color'])\n",
    "ax[1,1].set_title('Deviation from the mean\\n of Average customer value')\n",
    "ax[1,1].set_xticks(tick_positions+0.5)\n",
    "ax[1,1].set_xticklabels(country_sales_visual['average_customer_value'].sort_values().\\\n",
    "                        index.values,\n",
    "                        rotation =90)\n",
    "ax[1,1].margins(x=0.03)\n",
    "\n",
    "\n",
    "fig.subplots_adjust(hspace=.6, wspace=.4)\n",
    "plt.show"
   ]
  },
  {
   "cell_type": "markdown",
   "metadata": {},
   "source": [
    "# Albums vs Individual Tracks"
   ]
  },
  {
   "cell_type": "code",
   "execution_count": 21,
   "metadata": {
    "collapsed": true
   },
   "outputs": [],
   "source": [
    "query_purchase = '''\n",
    "WITH invoice_album AS\n",
    "    (\n",
    "     SELECT\n",
    "         invl.invoice_id invoice_id,\n",
    "         tr.album_id album_id\n",
    "     FROM invoice_line invl\n",
    "     INNER JOIN track tr ON tr.track_id = invl.track_id\n",
    "     GROUP BY 1\n",
    "    )\n",
    "\n",
    "SELECT\n",
    "    album_purchase,\n",
    "    COUNT(invoice_id) number_of_invoices,\n",
    "    ROUND(CAST(COUNT(invoice_id) AS FLOAT)*100 / (\n",
    "                                    SELECT COUNT(*) FROM invoice\n",
    "                                      ),2) || \"%\"  percent\n",
    "FROM\n",
    "    (\n",
    "    SELECT\n",
    "        ia.invoice_id,\n",
    "        CASE\n",
    "            WHEN\n",
    "                 (\n",
    "                  SELECT tr2.track_id FROM track tr2\n",
    "                  WHERE tr2.album_id = ia.album_id\n",
    "\n",
    "                  EXCEPT \n",
    "\n",
    "                  SELECT invl2.track_id FROM invoice_line invl2\n",
    "                  WHERE invl2.invoice_id = ia.invoice_id\n",
    "                 ) IS NULL\n",
    "             AND\n",
    "                 (\n",
    "                  SELECT invl2.track_id FROM invoice_line invl2\n",
    "                  WHERE invl2.invoice_id = ia.invoice_id\n",
    "\n",
    "                  EXCEPT \n",
    "\n",
    "                  SELECT tr2.track_id FROM track tr2\n",
    "                  WHERE tr2.album_id = ia.album_id\n",
    "                  \n",
    "                 ) IS NULL\n",
    "             THEN \"Yes\"\n",
    "             ELSE \"No\"\n",
    "         END AS \"album_purchase\"\n",
    "     FROM invoice_album ia\n",
    "    )\n",
    "GROUP BY album_purchase;\n",
    "'''"
   ]
  },
  {
   "cell_type": "code",
   "execution_count": 22,
   "metadata": {
    "collapsed": false
   },
   "outputs": [
    {
     "data": {
      "text/html": [
       "<div>\n",
       "<style scoped>\n",
       "    .dataframe tbody tr th:only-of-type {\n",
       "        vertical-align: middle;\n",
       "    }\n",
       "\n",
       "    .dataframe tbody tr th {\n",
       "        vertical-align: top;\n",
       "    }\n",
       "\n",
       "    .dataframe thead th {\n",
       "        text-align: right;\n",
       "    }\n",
       "</style>\n",
       "<table border=\"1\" class=\"dataframe\">\n",
       "  <thead>\n",
       "    <tr style=\"text-align: right;\">\n",
       "      <th></th>\n",
       "      <th>album_purchase</th>\n",
       "      <th>number_of_invoices</th>\n",
       "      <th>percent</th>\n",
       "    </tr>\n",
       "  </thead>\n",
       "  <tbody>\n",
       "    <tr>\n",
       "      <th>0</th>\n",
       "      <td>No</td>\n",
       "      <td>500</td>\n",
       "      <td>81.43%</td>\n",
       "    </tr>\n",
       "    <tr>\n",
       "      <th>1</th>\n",
       "      <td>Yes</td>\n",
       "      <td>114</td>\n",
       "      <td>18.57%</td>\n",
       "    </tr>\n",
       "  </tbody>\n",
       "</table>\n",
       "</div>"
      ],
      "text/plain": [
       "  album_purchase  number_of_invoices percent\n",
       "0             No                 500  81.43%\n",
       "1            Yes                 114  18.57%"
      ]
     },
     "execution_count": 22,
     "metadata": {},
     "output_type": "execute_result"
    }
   ],
   "source": [
    "run_query(query_purchase)"
   ]
  }
 ],
 "metadata": {
  "kernelspec": {
   "display_name": "Python 3",
   "language": "python",
   "name": "python3"
  },
  "language_info": {
   "codemirror_mode": {
    "name": "ipython",
    "version": 3
   },
   "file_extension": ".py",
   "mimetype": "text/x-python",
   "name": "python",
   "nbconvert_exporter": "python",
   "pygments_lexer": "ipython3",
   "version": "3.4.3"
  }
 },
 "nbformat": 4,
 "nbformat_minor": 2
}
