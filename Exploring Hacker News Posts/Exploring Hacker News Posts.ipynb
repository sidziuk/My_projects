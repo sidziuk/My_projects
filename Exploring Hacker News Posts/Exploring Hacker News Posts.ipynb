{
 "cells": [
  {
   "cell_type": "markdown",
   "metadata": {},
   "source": [
    "# Exploring Hackers News Posts"
   ]
  },
  {
   "cell_type": "code",
   "execution_count": 1,
   "metadata": {
    "collapsed": false
   },
   "outputs": [
    {
     "name": "stdout",
     "output_type": "stream",
     "text": [
      "[['id', 'title', 'url', 'num_points', 'num_comments', 'author', 'created_at'], ['12224879', 'Interactive Dynamic Video', 'http://www.interactivedynamicvideo.com/', '386', '52', 'ne0phyte', '8/4/2016 11:52'], ['10975351', 'How to Use Open Source and Shut the Fuck Up at the Same Time', 'http://hueniverse.com/2016/01/26/how-to-use-open-source-and-shut-the-fuck-up-at-the-same-time/', '39', '10', 'josep2', '1/26/2016 19:30'], ['11964716', \"Florida DJs May Face Felony for April Fools' Water Joke\", 'http://www.thewire.com/entertainment/2013/04/florida-djs-april-fools-water-joke/63798/', '2', '1', 'vezycash', '6/23/2016 22:20'], ['11919867', 'Technology ventures: From Idea to Enterprise', 'https://www.amazon.com/Technology-Ventures-Enterprise-Thomas-Byers/dp/0073523429', '3', '1', 'hswarna', '6/17/2016 0:01']]\n"
     ]
    }
   ],
   "source": [
    "# Read in the data\n",
    "opened_file = open('hacker_news.csv')\n",
    "from csv import reader\n",
    "read_file = reader(opened_file)\n",
    "hn = list(read_file)\n",
    "print(hn[0:5])"
   ]
  },
  {
   "cell_type": "code",
   "execution_count": 2,
   "metadata": {
    "collapsed": false
   },
   "outputs": [
    {
     "name": "stdout",
     "output_type": "stream",
     "text": [
      "[['12224879', 'Interactive Dynamic Video', 'http://www.interactivedynamicvideo.com/', '386', '52', 'ne0phyte', '8/4/2016 11:52'], ['10975351', 'How to Use Open Source and Shut the Fuck Up at the Same Time', 'http://hueniverse.com/2016/01/26/how-to-use-open-source-and-shut-the-fuck-up-at-the-same-time/', '39', '10', 'josep2', '1/26/2016 19:30'], ['11964716', \"Florida DJs May Face Felony for April Fools' Water Joke\", 'http://www.thewire.com/entertainment/2013/04/florida-djs-april-fools-water-joke/63798/', '2', '1', 'vezycash', '6/23/2016 22:20'], ['11919867', 'Technology ventures: From Idea to Enterprise', 'https://www.amazon.com/Technology-Ventures-Enterprise-Thomas-Byers/dp/0073523429', '3', '1', 'hswarna', '6/17/2016 0:01'], ['10301696', 'Note by Note: The Making of Steinway L1037 (2007)', 'http://www.nytimes.com/2007/11/07/movies/07stein.html?_r=0', '8', '2', 'walterbell', '9/30/2015 4:12']]\n"
     ]
    }
   ],
   "source": [
    "# Remove the headers\n",
    "headers = hn[0]\n",
    "hn = hn[1:]\n",
    "print(hn[0:5])"
   ]
  },
  {
   "cell_type": "markdown",
   "metadata": {},
   "source": [
    "# Extracting Ask HN and Show HN Posts"
   ]
  },
  {
   "cell_type": "code",
   "execution_count": 3,
   "metadata": {
    "collapsed": false
   },
   "outputs": [
    {
     "name": "stdout",
     "output_type": "stream",
     "text": [
      "1744 1162 17194\n"
     ]
    }
   ],
   "source": [
    "# Identify posts that begin with either `Ask HN` or `Show HN` and separate the data into different lists\n",
    "ask_posts = []\n",
    "show_posts = []\n",
    "other_posts = []\n",
    "for row in hn:\n",
    "    title = row[1].lower()\n",
    "    if title.startswith('ask hn'):\n",
    "        ask_posts.append(row)\n",
    "    elif title.startswith('show hn'):\n",
    "        show_posts.append(row)\n",
    "    else:\n",
    "        other_posts.append(row)\n",
    "\n",
    "print(len(ask_posts), len(show_posts), len(other_posts))"
   ]
  },
  {
   "cell_type": "markdown",
   "metadata": {},
   "source": [
    "# Calculating the Average Number of Comments for Ask HN and Show HN Posts"
   ]
  },
  {
   "cell_type": "code",
   "execution_count": 4,
   "metadata": {
    "collapsed": false
   },
   "outputs": [],
   "source": [
    "# Calculate the average number of comments `Ask HN` posts receive\n",
    "total_ask_comments = 0\n",
    "for row in ask_posts:\n",
    "    total_ask_comments += float(row[4])\n",
    "\n",
    "avg_ask_comments = total_ask_comments / len(ask_posts)"
   ]
  },
  {
   "cell_type": "code",
   "execution_count": 5,
   "metadata": {
    "collapsed": false
   },
   "outputs": [
    {
     "name": "stdout",
     "output_type": "stream",
     "text": [
      "10.31669535283993\n"
     ]
    }
   ],
   "source": [
    "# Calculate the average number of comments `Show HN` posts receive\n",
    "total_show_comments = 0\n",
    "for row in show_posts:\n",
    "    total_show_comments += float(row[4])\n",
    "\n",
    "avg_show_comments = total_show_comments / len(show_posts)\n",
    "\n",
    "print (avg_show_comments)"
   ]
  },
  {
   "cell_type": "markdown",
   "metadata": {},
   "source": [
    "# Finding the Amount of Ask Posts and Comments by Hour Created"
   ]
  },
  {
   "cell_type": "code",
   "execution_count": 6,
   "metadata": {
    "collapsed": false
   },
   "outputs": [
    {
     "name": "stdout",
     "output_type": "stream",
     "text": [
      "{'22': 71, '16': 108, '00': 55, '06': 44, '02': 58, '20': 80, '03': 54, '21': 109, '18': 109, '05': 46, '10': 59, '19': 110, '11': 58, '01': 60, '08': 48, '12': 73, '04': 47, '14': 107, '09': 45, '07': 34, '17': 100, '15': 116, '23': 68, '13': 85}\n"
     ]
    }
   ],
   "source": [
    "# Calculate the amount of ask posts created during each hour of day and the number of comments received.\n",
    "import datetime as dt\n",
    "result_list = []\n",
    "for row in ask_posts:\n",
    "    result_list.append([row[6], int(row[4])])\n",
    "                    \n",
    "counts_by_hour = {}\n",
    "comments_by_hour = {}\n",
    "                       \n",
    "for row in result_list:\n",
    "    time = dt.datetime.strptime(row[0], \"%m/%d/%Y %H:%M\")\n",
    "    key = time.strftime(\"%H\")\n",
    "    if key not in counts_by_hour:\n",
    "        counts_by_hour[key] = 1\n",
    "        comments_by_hour[key] = int(row[1])\n",
    "    else:\n",
    "        counts_by_hour[key] += 1\n",
    "        comments_by_hour[key] += int(row[1])\n",
    "    \n",
    "print (counts_by_hour)\n"
   ]
  },
  {
   "cell_type": "code",
   "execution_count": 7,
   "metadata": {
    "collapsed": false
   },
   "outputs": [
    {
     "name": "stdout",
     "output_type": "stream",
     "text": [
      "{'22': 479, '16': 1814, '00': 447, '06': 397, '02': 1381, '20': 1722, '03': 421, '21': 1745, '18': 1439, '05': 464, '10': 793, '19': 1188, '11': 641, '01': 683, '08': 492, '12': 687, '04': 337, '14': 1416, '09': 251, '07': 267, '17': 1146, '15': 4477, '23': 543, '13': 1253}\n"
     ]
    }
   ],
   "source": [
    "print (comments_by_hour)"
   ]
  },
  {
   "cell_type": "markdown",
   "metadata": {},
   "source": [
    "# Calculating the Average Number of Comments for Ask HN Posts by Hour"
   ]
  },
  {
   "cell_type": "code",
   "execution_count": 8,
   "metadata": {
    "collapsed": false
   },
   "outputs": [],
   "source": [
    "avg_by_hour = []\n",
    "for row in counts_by_hour:\n",
    "    avg_by_hour.append([row,int(comments_by_hour[row])/int(counts_by_hour[row])] )"
   ]
  },
  {
   "cell_type": "code",
   "execution_count": 9,
   "metadata": {
    "collapsed": false
   },
   "outputs": [
    {
     "name": "stdout",
     "output_type": "stream",
     "text": [
      "[['22', 6.746478873239437], ['16', 16.796296296296298], ['00', 8.127272727272727], ['06', 9.022727272727273], ['02', 23.810344827586206], ['20', 21.525], ['03', 7.796296296296297], ['21', 16.009174311926607], ['18', 13.20183486238532], ['05', 10.08695652173913], ['10', 13.440677966101696], ['19', 10.8], ['11', 11.051724137931034], ['01', 11.383333333333333], ['08', 10.25], ['12', 9.41095890410959], ['04', 7.170212765957447], ['14', 13.233644859813085], ['09', 5.5777777777777775], ['07', 7.852941176470588], ['17', 11.46], ['15', 38.5948275862069], ['23', 7.985294117647059], ['13', 14.741176470588234]]\n"
     ]
    }
   ],
   "source": [
    "print(avg_by_hour)"
   ]
  },
  {
   "cell_type": "markdown",
   "metadata": {},
   "source": [
    "# Sorting and Printing Values from a List of Lists"
   ]
  },
  {
   "cell_type": "code",
   "execution_count": 10,
   "metadata": {
    "collapsed": false
   },
   "outputs": [
    {
     "name": "stdout",
     "output_type": "stream",
     "text": [
      "[[6.746478873239437, '22'], [16.796296296296298, '16'], [8.127272727272727, '00'], [9.022727272727273, '06'], [23.810344827586206, '02'], [21.525, '20'], [7.796296296296297, '03'], [16.009174311926607, '21'], [13.20183486238532, '18'], [10.08695652173913, '05'], [13.440677966101696, '10'], [10.8, '19'], [11.051724137931034, '11'], [11.383333333333333, '01'], [10.25, '08'], [9.41095890410959, '12'], [7.170212765957447, '04'], [13.233644859813085, '14'], [5.5777777777777775, '09'], [7.852941176470588, '07'], [11.46, '17'], [38.5948275862069, '15'], [7.985294117647059, '23'], [14.741176470588234, '13']]\n"
     ]
    }
   ],
   "source": [
    "swap_avg_by_hour = []\n",
    "for row in avg_by_hour:\n",
    "    swap_avg_by_hour.append([row[1],row[0]])\n",
    "print(swap_avg_by_hour)"
   ]
  },
  {
   "cell_type": "code",
   "execution_count": 11,
   "metadata": {
    "collapsed": true
   },
   "outputs": [],
   "source": [
    "sorted_swap = sorted(swap_avg_by_hour, reverse = True)"
   ]
  },
  {
   "cell_type": "code",
   "execution_count": 12,
   "metadata": {
    "collapsed": false
   },
   "outputs": [
    {
     "name": "stdout",
     "output_type": "stream",
     "text": [
      "[[38.5948275862069, '15'], [23.810344827586206, '02'], [21.525, '20'], [16.796296296296298, '16']]\n"
     ]
    }
   ],
   "source": [
    "print(sorted_swap[:4])"
   ]
  },
  {
   "cell_type": "code",
   "execution_count": 14,
   "metadata": {
    "collapsed": false
   },
   "outputs": [
    {
     "name": "stdout",
     "output_type": "stream",
     "text": [
      "15: 38.59 average comments per post\n",
      "02: 23.81 average comments per post\n",
      "20: 21.52 average comments per post\n",
      "16: 16.80 average comments per post\n",
      "21: 16.01 average comments per post\n",
      "13: 14.74 average comments per post\n",
      "10: 13.44 average comments per post\n",
      "14: 13.23 average comments per post\n",
      "18: 13.20 average comments per post\n",
      "17: 11.46 average comments per post\n",
      "01: 11.38 average comments per post\n",
      "11: 11.05 average comments per post\n",
      "19: 10.80 average comments per post\n",
      "08: 10.25 average comments per post\n",
      "05: 10.09 average comments per post\n",
      "12: 9.41 average comments per post\n",
      "06: 9.02 average comments per post\n",
      "00: 8.13 average comments per post\n",
      "23: 7.99 average comments per post\n",
      "07: 7.85 average comments per post\n",
      "03: 7.80 average comments per post\n",
      "04: 7.17 average comments per post\n",
      "22: 6.75 average comments per post\n",
      "09: 5.58 average comments per post\n"
     ]
    }
   ],
   "source": [
    "# Sort the values and print the the 5 hours with the highest average comments.\n",
    "for row in sorted_swap:\n",
    "    timeH = dt.datetime.strptime(row[1],'%H')\n",
    "    row[1] = timeH.strftime('%H')\n",
    "    print ('{}: {:.2f} average comments per post'.format(row[1],row[0]))\n",
    "    "
   ]
  },
  {
   "cell_type": "code",
   "execution_count": null,
   "metadata": {
    "collapsed": true
   },
   "outputs": [],
   "source": []
  }
 ],
 "metadata": {
  "kernelspec": {
   "display_name": "Python 3",
   "language": "python",
   "name": "python3"
  },
  "language_info": {
   "codemirror_mode": {
    "name": "ipython",
    "version": 3
   },
   "file_extension": ".py",
   "mimetype": "text/x-python",
   "name": "python",
   "nbconvert_exporter": "python",
   "pygments_lexer": "ipython3",
   "version": "3.4.3"
  }
 },
 "nbformat": 4,
 "nbformat_minor": 2
}
